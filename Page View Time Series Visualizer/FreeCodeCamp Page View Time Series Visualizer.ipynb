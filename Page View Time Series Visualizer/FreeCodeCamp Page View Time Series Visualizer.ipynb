{
 "cells": [
  {
   "cell_type": "code",
   "execution_count": 1,
   "id": "025448a5",
   "metadata": {},
   "outputs": [],
   "source": [
    "import pandas as pd\n",
    "import numpy as np\n",
    "import matplotlib.pyplot as plt\n",
    "import seaborn as sns"
   ]
  },
  {
   "cell_type": "code",
   "execution_count": 2,
   "id": "eab52e91",
   "metadata": {},
   "outputs": [],
   "source": [
    "import warnings \n",
    "from warnings import filterwarnings\n",
    "filterwarnings('ignore')"
   ]
  },
  {
   "cell_type": "markdown",
   "id": "aed29d44",
   "metadata": {},
   "source": [
    "## Read the data from a csv file"
   ]
  },
  {
   "cell_type": "code",
   "execution_count": 3,
   "id": "e2df1303",
   "metadata": {},
   "outputs": [],
   "source": [
    "df = pd.read_csv('fcc-forum-pageviews.csv')"
   ]
  },
  {
   "cell_type": "markdown",
   "id": "19dc91c3",
   "metadata": {},
   "source": [
    "## Display the first 5 rows"
   ]
  },
  {
   "cell_type": "code",
   "execution_count": 4,
   "id": "5eaa9cb3",
   "metadata": {},
   "outputs": [
    {
     "data": {
      "text/html": [
       "<div>\n",
       "<style scoped>\n",
       "    .dataframe tbody tr th:only-of-type {\n",
       "        vertical-align: middle;\n",
       "    }\n",
       "\n",
       "    .dataframe tbody tr th {\n",
       "        vertical-align: top;\n",
       "    }\n",
       "\n",
       "    .dataframe thead th {\n",
       "        text-align: right;\n",
       "    }\n",
       "</style>\n",
       "<table border=\"1\" class=\"dataframe\">\n",
       "  <thead>\n",
       "    <tr style=\"text-align: right;\">\n",
       "      <th></th>\n",
       "      <th>date</th>\n",
       "      <th>value</th>\n",
       "    </tr>\n",
       "  </thead>\n",
       "  <tbody>\n",
       "    <tr>\n",
       "      <th>0</th>\n",
       "      <td>2016-05-09</td>\n",
       "      <td>1201</td>\n",
       "    </tr>\n",
       "    <tr>\n",
       "      <th>1</th>\n",
       "      <td>2016-05-10</td>\n",
       "      <td>2329</td>\n",
       "    </tr>\n",
       "    <tr>\n",
       "      <th>2</th>\n",
       "      <td>2016-05-11</td>\n",
       "      <td>1716</td>\n",
       "    </tr>\n",
       "    <tr>\n",
       "      <th>3</th>\n",
       "      <td>2016-05-12</td>\n",
       "      <td>10539</td>\n",
       "    </tr>\n",
       "    <tr>\n",
       "      <th>4</th>\n",
       "      <td>2016-05-13</td>\n",
       "      <td>6933</td>\n",
       "    </tr>\n",
       "  </tbody>\n",
       "</table>\n",
       "</div>"
      ],
      "text/plain": [
       "         date  value\n",
       "0  2016-05-09   1201\n",
       "1  2016-05-10   2329\n",
       "2  2016-05-11   1716\n",
       "3  2016-05-12  10539\n",
       "4  2016-05-13   6933"
      ]
     },
     "execution_count": 4,
     "metadata": {},
     "output_type": "execute_result"
    }
   ],
   "source": [
    "df.head()"
   ]
  },
  {
   "cell_type": "markdown",
   "id": "32795c68",
   "metadata": {},
   "source": [
    "## This shows that there are 1304 rows and 2 columns"
   ]
  },
  {
   "cell_type": "code",
   "execution_count": 5,
   "id": "277f351c",
   "metadata": {},
   "outputs": [
    {
     "data": {
      "text/plain": [
       "(1304, 2)"
      ]
     },
     "execution_count": 5,
     "metadata": {},
     "output_type": "execute_result"
    }
   ],
   "source": [
    "df.shape"
   ]
  },
  {
   "cell_type": "markdown",
   "id": "a49c21f3",
   "metadata": {},
   "source": [
    "## This shows that there are no missing values"
   ]
  },
  {
   "cell_type": "code",
   "execution_count": 6,
   "id": "dc5df2b7",
   "metadata": {},
   "outputs": [
    {
     "data": {
      "text/plain": [
       "date     0\n",
       "value    0\n",
       "dtype: int64"
      ]
     },
     "execution_count": 6,
     "metadata": {},
     "output_type": "execute_result"
    }
   ],
   "source": [
    "df.isna().sum()"
   ]
  },
  {
   "cell_type": "markdown",
   "id": "1adb33aa",
   "metadata": {},
   "source": [
    "## This shows that there are no dupliacted rows"
   ]
  },
  {
   "cell_type": "code",
   "execution_count": 7,
   "id": "6ba3969d",
   "metadata": {},
   "outputs": [
    {
     "data": {
      "text/plain": [
       "(0, 2)"
      ]
     },
     "execution_count": 7,
     "metadata": {},
     "output_type": "execute_result"
    }
   ],
   "source": [
    "df[df.duplicated()].shape"
   ]
  },
  {
   "cell_type": "markdown",
   "id": "85a7c0d1",
   "metadata": {},
   "source": [
    "## It shows the datatype of the various columns "
   ]
  },
  {
   "cell_type": "code",
   "execution_count": 8,
   "id": "d142acb3",
   "metadata": {},
   "outputs": [
    {
     "data": {
      "text/plain": [
       "date     object\n",
       "value     int64\n",
       "dtype: object"
      ]
     },
     "execution_count": 8,
     "metadata": {},
     "output_type": "execute_result"
    }
   ],
   "source": [
    "df.dtypes"
   ]
  },
  {
   "cell_type": "markdown",
   "id": "b7af8401",
   "metadata": {},
   "source": [
    "## Since the first row started from 2016-05-09 we must add the missing 4 mounths values to it but since it is not known we replace it with 0"
   ]
  },
  {
   "cell_type": "code",
   "execution_count": 9,
   "id": "88496ae0",
   "metadata": {},
   "outputs": [],
   "source": [
    "data = {\n",
    "    'date': ['2016-01-01','2016-02-01','2016-03-01','2016-04-01'],\n",
    "    'value': [0, 0, 0, 0]\n",
    "}"
   ]
  },
  {
   "cell_type": "markdown",
   "id": "7979422a",
   "metadata": {},
   "source": [
    "## This adds the dummy data to our dataframe"
   ]
  },
  {
   "cell_type": "code",
   "execution_count": 10,
   "id": "cf051f0d",
   "metadata": {},
   "outputs": [],
   "source": [
    "df = pd.concat([df, pd.DataFrame(data)], ignore_index=True)"
   ]
  },
  {
   "cell_type": "markdown",
   "id": "18feeded",
   "metadata": {},
   "source": [
    "## This converts the date column from being a string to a datetime datatype"
   ]
  },
  {
   "cell_type": "code",
   "execution_count": 11,
   "id": "82b4c99f",
   "metadata": {},
   "outputs": [],
   "source": [
    "df['date'] = pd.to_datetime(df.date)"
   ]
  },
  {
   "cell_type": "markdown",
   "id": "55fcb3c0",
   "metadata": {},
   "source": [
    "## This shows the datatype of the columns and as you can see the date column is now of datatype datetime"
   ]
  },
  {
   "cell_type": "code",
   "execution_count": 12,
   "id": "6fd29649",
   "metadata": {},
   "outputs": [
    {
     "data": {
      "text/plain": [
       "date     datetime64[ns]\n",
       "value             int64\n",
       "dtype: object"
      ]
     },
     "execution_count": 12,
     "metadata": {},
     "output_type": "execute_result"
    }
   ],
   "source": [
    "df.dtypes"
   ]
  },
  {
   "cell_type": "markdown",
   "id": "e256a387",
   "metadata": {},
   "source": [
    "## This sets the date column as the index"
   ]
  },
  {
   "cell_type": "code",
   "execution_count": 13,
   "id": "57e91020",
   "metadata": {},
   "outputs": [],
   "source": [
    "df.set_index('date', inplace=True)"
   ]
  },
  {
   "cell_type": "markdown",
   "id": "244a14ac",
   "metadata": {},
   "source": [
    "## This displays the first 5 rows"
   ]
  },
  {
   "cell_type": "code",
   "execution_count": 14,
   "id": "e81f2afe",
   "metadata": {},
   "outputs": [
    {
     "data": {
      "text/html": [
       "<div>\n",
       "<style scoped>\n",
       "    .dataframe tbody tr th:only-of-type {\n",
       "        vertical-align: middle;\n",
       "    }\n",
       "\n",
       "    .dataframe tbody tr th {\n",
       "        vertical-align: top;\n",
       "    }\n",
       "\n",
       "    .dataframe thead th {\n",
       "        text-align: right;\n",
       "    }\n",
       "</style>\n",
       "<table border=\"1\" class=\"dataframe\">\n",
       "  <thead>\n",
       "    <tr style=\"text-align: right;\">\n",
       "      <th></th>\n",
       "      <th>value</th>\n",
       "    </tr>\n",
       "    <tr>\n",
       "      <th>date</th>\n",
       "      <th></th>\n",
       "    </tr>\n",
       "  </thead>\n",
       "  <tbody>\n",
       "    <tr>\n",
       "      <th>2016-05-09</th>\n",
       "      <td>1201</td>\n",
       "    </tr>\n",
       "    <tr>\n",
       "      <th>2016-05-10</th>\n",
       "      <td>2329</td>\n",
       "    </tr>\n",
       "    <tr>\n",
       "      <th>2016-05-11</th>\n",
       "      <td>1716</td>\n",
       "    </tr>\n",
       "    <tr>\n",
       "      <th>2016-05-12</th>\n",
       "      <td>10539</td>\n",
       "    </tr>\n",
       "    <tr>\n",
       "      <th>2016-05-13</th>\n",
       "      <td>6933</td>\n",
       "    </tr>\n",
       "  </tbody>\n",
       "</table>\n",
       "</div>"
      ],
      "text/plain": [
       "            value\n",
       "date             \n",
       "2016-05-09   1201\n",
       "2016-05-10   2329\n",
       "2016-05-11   1716\n",
       "2016-05-12  10539\n",
       "2016-05-13   6933"
      ]
     },
     "execution_count": 14,
     "metadata": {},
     "output_type": "execute_result"
    }
   ],
   "source": [
    "df.head()"
   ]
  },
  {
   "cell_type": "markdown",
   "id": "7be987bc",
   "metadata": {},
   "source": [
    "## This removes all the rows with their value less than 2.5% of the value"
   ]
  },
  {
   "cell_type": "code",
   "execution_count": 33,
   "id": "e0077728",
   "metadata": {},
   "outputs": [],
   "source": [
    "clean_data = df[df.value >= df.value.quantile(0.025)]"
   ]
  },
  {
   "cell_type": "markdown",
   "id": "e496bff2",
   "metadata": {},
   "source": [
    "## This shows that the rows have decreased from 1304 to 1275"
   ]
  },
  {
   "cell_type": "code",
   "execution_count": 16,
   "id": "a765aa21",
   "metadata": {},
   "outputs": [
    {
     "data": {
      "text/plain": [
       "(1275, 1)"
      ]
     },
     "execution_count": 16,
     "metadata": {},
     "output_type": "execute_result"
    }
   ],
   "source": [
    "clean_data.shape"
   ]
  },
  {
   "cell_type": "markdown",
   "id": "b9a3e630",
   "metadata": {},
   "source": [
    "## This removes all the rows with their value greater than 97.5% of the value"
   ]
  },
  {
   "cell_type": "code",
   "execution_count": 17,
   "id": "45e04c48",
   "metadata": {},
   "outputs": [],
   "source": [
    "clean_data = clean_data[clean_data.value <= clean_data.value.quantile(0.975)]"
   ]
  },
  {
   "cell_type": "markdown",
   "id": "504c54ac",
   "metadata": {},
   "source": [
    "## This shows that the rowws have decreased from 1275 to 1243"
   ]
  },
  {
   "cell_type": "code",
   "execution_count": 18,
   "id": "8e8f92ee",
   "metadata": {},
   "outputs": [
    {
     "data": {
      "text/plain": [
       "(1243, 1)"
      ]
     },
     "execution_count": 18,
     "metadata": {},
     "output_type": "execute_result"
    }
   ],
   "source": [
    "clean_data.shape"
   ]
  },
  {
   "cell_type": "markdown",
   "id": "922dd30f",
   "metadata": {},
   "source": [
    "## This returns the index of each row in the dataframe"
   ]
  },
  {
   "cell_type": "code",
   "execution_count": 19,
   "id": "c449051f",
   "metadata": {},
   "outputs": [
    {
     "data": {
      "text/plain": [
       "DatetimeIndex(['2016-05-19', '2016-05-20', '2016-05-26', '2016-05-27',\n",
       "               '2016-05-28', '2016-05-29', '2016-06-07', '2016-06-08',\n",
       "               '2016-06-09', '2016-06-10',\n",
       "               ...\n",
       "               '2019-11-16', '2019-11-17', '2019-11-20', '2019-11-21',\n",
       "               '2019-11-23', '2019-11-24', '2019-11-29', '2019-11-30',\n",
       "               '2019-12-01', '2019-12-03'],\n",
       "              dtype='datetime64[ns]', name='date', length=1243, freq=None)"
      ]
     },
     "execution_count": 19,
     "metadata": {},
     "output_type": "execute_result"
    }
   ],
   "source": [
    "clean_data.index"
   ]
  },
  {
   "cell_type": "markdown",
   "id": "a19c7680",
   "metadata": {},
   "source": [
    "## This creates a function that is used to draw a line plot"
   ]
  },
  {
   "cell_type": "code",
   "execution_count": 20,
   "id": "3a8d1d0b",
   "metadata": {},
   "outputs": [],
   "source": [
    "def draw_line_plot(data):\n",
    "    plt.figure(figsize=(12, 4))\n",
    "    plt.plot(data.index, data.value, color='red')\n",
    "    plt.xlabel('Date')\n",
    "    plt.ylabel('Page Views')\n",
    "    plt.title('Daily FreeCodeCamp Forum Page Views 5/2016-12/2019')\n",
    "    plt.show()"
   ]
  },
  {
   "cell_type": "markdown",
   "id": "8bb6c89a",
   "metadata": {},
   "source": [
    "## The function is called and used to draw a line plot"
   ]
  },
  {
   "cell_type": "code",
   "execution_count": 21,
   "id": "3d35729f",
   "metadata": {},
   "outputs": [
    {
     "data": {
      "image/png": "[encoded data removed]",
      "text/plain": [
       "<Figure size 1200x400 with 1 Axes>"
      ]
     },
     "metadata": {},
     "output_type": "display_data"
    }
   ],
   "source": [
    "draw_line_plot(clean_data)"
   ]
  },
  {
   "cell_type": "markdown",
   "id": "4871cf11",
   "metadata": {},
   "source": [
    "## This changes the date from being the index to being a column for both df and clean_data dataframe"
   ]
  },
  {
   "cell_type": "code",
   "execution_count": 22,
   "id": "5d585ecf",
   "metadata": {},
   "outputs": [],
   "source": [
    "df.reset_index(inplace=True)\n",
    "clean_data.reset_index(inplace=True)"
   ]
  },
  {
   "cell_type": "markdown",
   "id": "196f6730",
   "metadata": {},
   "source": [
    "## This gets the year value from the date column and store it in a new column year in both df and clean_data dataframe"
   ]
  },
  {
   "cell_type": "code",
   "execution_count": 23,
   "id": "290cd49e",
   "metadata": {},
   "outputs": [],
   "source": [
    "df['year'] = df.date.dt.year\n",
    "clean_data['year'] = clean_data.date.dt.year"
   ]
  },
  {
   "cell_type": "markdown",
   "id": "33fdcc80",
   "metadata": {},
   "source": [
    "## This gets the month value from the date column and store it in a new column month in both df and clean_data dataframe"
   ]
  },
  {
   "cell_type": "code",
   "execution_count": 24,
   "id": "4ca7d3a6",
   "metadata": {},
   "outputs": [],
   "source": [
    "df['month'] = df.date.dt.month\n",
    "clean_data['month'] = clean_data.date.dt.month"
   ]
  },
  {
   "cell_type": "markdown",
   "id": "a54d3338",
   "metadata": {},
   "source": [
    "## This gets the month name value from the date column and store it in a new column month name in both df and clean_data dataframe"
   ]
  },
  {
   "cell_type": "code",
   "execution_count": 25,
   "id": "2673964f",
   "metadata": {},
   "outputs": [],
   "source": [
    "df['month name'] = df.date.dt.month_name()\n",
    "clean_data['month name'] = clean_data.date.dt.month_name()"
   ]
  },
  {
   "cell_type": "markdown",
   "id": "09a65900",
   "metadata": {},
   "source": [
    "## This displays the first 5 rows"
   ]
  },
  {
   "cell_type": "code",
   "execution_count": 26,
   "id": "4c4ae605",
   "metadata": {},
   "outputs": [
    {
     "data": {
      "text/html": [
       "<div>\n",
       "<style scoped>\n",
       "    .dataframe tbody tr th:only-of-type {\n",
       "        vertical-align: middle;\n",
       "    }\n",
       "\n",
       "    .dataframe tbody tr th {\n",
       "        vertical-align: top;\n",
       "    }\n",
       "\n",
       "    .dataframe thead th {\n",
       "        text-align: right;\n",
       "    }\n",
       "</style>\n",
       "<table border=\"1\" class=\"dataframe\">\n",
       "  <thead>\n",
       "    <tr style=\"text-align: right;\">\n",
       "      <th></th>\n",
       "      <th>date</th>\n",
       "      <th>value</th>\n",
       "      <th>year</th>\n",
       "      <th>month</th>\n",
       "      <th>month name</th>\n",
       "    </tr>\n",
       "  </thead>\n",
       "  <tbody>\n",
       "    <tr>\n",
       "      <th>0</th>\n",
       "      <td>2016-05-09</td>\n",
       "      <td>1201</td>\n",
       "      <td>2016</td>\n",
       "      <td>5</td>\n",
       "      <td>May</td>\n",
       "    </tr>\n",
       "    <tr>\n",
       "      <th>1</th>\n",
       "      <td>2016-05-10</td>\n",
       "      <td>2329</td>\n",
       "      <td>2016</td>\n",
       "      <td>5</td>\n",
       "      <td>May</td>\n",
       "    </tr>\n",
       "    <tr>\n",
       "      <th>2</th>\n",
       "      <td>2016-05-11</td>\n",
       "      <td>1716</td>\n",
       "      <td>2016</td>\n",
       "      <td>5</td>\n",
       "      <td>May</td>\n",
       "    </tr>\n",
       "    <tr>\n",
       "      <th>3</th>\n",
       "      <td>2016-05-12</td>\n",
       "      <td>10539</td>\n",
       "      <td>2016</td>\n",
       "      <td>5</td>\n",
       "      <td>May</td>\n",
       "    </tr>\n",
       "    <tr>\n",
       "      <th>4</th>\n",
       "      <td>2016-05-13</td>\n",
       "      <td>6933</td>\n",
       "      <td>2016</td>\n",
       "      <td>5</td>\n",
       "      <td>May</td>\n",
       "    </tr>\n",
       "  </tbody>\n",
       "</table>\n",
       "</div>"
      ],
      "text/plain": [
       "        date  value  year  month month name\n",
       "0 2016-05-09   1201  2016      5        May\n",
       "1 2016-05-10   2329  2016      5        May\n",
       "2 2016-05-11   1716  2016      5        May\n",
       "3 2016-05-12  10539  2016      5        May\n",
       "4 2016-05-13   6933  2016      5        May"
      ]
     },
     "execution_count": 26,
     "metadata": {},
     "output_type": "execute_result"
    }
   ],
   "source": [
    "df.head()"
   ]
  },
  {
   "cell_type": "markdown",
   "id": "b8fa6609",
   "metadata": {},
   "source": [
    "## This displays the last 5 rows"
   ]
  },
  {
   "cell_type": "code",
   "execution_count": 27,
   "id": "6b4d2dcb",
   "metadata": {},
   "outputs": [
    {
     "data": {
      "text/html": [
       "<div>\n",
       "<style scoped>\n",
       "    .dataframe tbody tr th:only-of-type {\n",
       "        vertical-align: middle;\n",
       "    }\n",
       "\n",
       "    .dataframe tbody tr th {\n",
       "        vertical-align: top;\n",
       "    }\n",
       "\n",
       "    .dataframe thead th {\n",
       "        text-align: right;\n",
       "    }\n",
       "</style>\n",
       "<table border=\"1\" class=\"dataframe\">\n",
       "  <thead>\n",
       "    <tr style=\"text-align: right;\">\n",
       "      <th></th>\n",
       "      <th>date</th>\n",
       "      <th>value</th>\n",
       "      <th>year</th>\n",
       "      <th>month</th>\n",
       "      <th>month name</th>\n",
       "    </tr>\n",
       "  </thead>\n",
       "  <tbody>\n",
       "    <tr>\n",
       "      <th>1303</th>\n",
       "      <td>2019-12-03</td>\n",
       "      <td>158549</td>\n",
       "      <td>2019</td>\n",
       "      <td>12</td>\n",
       "      <td>December</td>\n",
       "    </tr>\n",
       "    <tr>\n",
       "      <th>1304</th>\n",
       "      <td>2016-01-01</td>\n",
       "      <td>0</td>\n",
       "      <td>2016</td>\n",
       "      <td>1</td>\n",
       "      <td>January</td>\n",
       "    </tr>\n",
       "    <tr>\n",
       "      <th>1305</th>\n",
       "      <td>2016-02-01</td>\n",
       "      <td>0</td>\n",
       "      <td>2016</td>\n",
       "      <td>2</td>\n",
       "      <td>February</td>\n",
       "    </tr>\n",
       "    <tr>\n",
       "      <th>1306</th>\n",
       "      <td>2016-03-01</td>\n",
       "      <td>0</td>\n",
       "      <td>2016</td>\n",
       "      <td>3</td>\n",
       "      <td>March</td>\n",
       "    </tr>\n",
       "    <tr>\n",
       "      <th>1307</th>\n",
       "      <td>2016-04-01</td>\n",
       "      <td>0</td>\n",
       "      <td>2016</td>\n",
       "      <td>4</td>\n",
       "      <td>April</td>\n",
       "    </tr>\n",
       "  </tbody>\n",
       "</table>\n",
       "</div>"
      ],
      "text/plain": [
       "           date   value  year  month month name\n",
       "1303 2019-12-03  158549  2019     12   December\n",
       "1304 2016-01-01       0  2016      1    January\n",
       "1305 2016-02-01       0  2016      2   February\n",
       "1306 2016-03-01       0  2016      3      March\n",
       "1307 2016-04-01       0  2016      4      April"
      ]
     },
     "execution_count": 27,
     "metadata": {},
     "output_type": "execute_result"
    }
   ],
   "source": [
    "df.tail()"
   ]
  },
  {
   "cell_type": "markdown",
   "id": "b6073b1e",
   "metadata": {},
   "source": [
    "## This displays the first 5 rows "
   ]
  },
  {
   "cell_type": "code",
   "execution_count": 28,
   "id": "ce6e16ab",
   "metadata": {},
   "outputs": [
    {
     "data": {
      "text/html": [
       "<div>\n",
       "<style scoped>\n",
       "    .dataframe tbody tr th:only-of-type {\n",
       "        vertical-align: middle;\n",
       "    }\n",
       "\n",
       "    .dataframe tbody tr th {\n",
       "        vertical-align: top;\n",
       "    }\n",
       "\n",
       "    .dataframe thead th {\n",
       "        text-align: right;\n",
       "    }\n",
       "</style>\n",
       "<table border=\"1\" class=\"dataframe\">\n",
       "  <thead>\n",
       "    <tr style=\"text-align: right;\">\n",
       "      <th></th>\n",
       "      <th>date</th>\n",
       "      <th>value</th>\n",
       "      <th>year</th>\n",
       "      <th>month</th>\n",
       "      <th>month name</th>\n",
       "    </tr>\n",
       "  </thead>\n",
       "  <tbody>\n",
       "    <tr>\n",
       "      <th>0</th>\n",
       "      <td>2016-05-19</td>\n",
       "      <td>19736</td>\n",
       "      <td>2016</td>\n",
       "      <td>5</td>\n",
       "      <td>May</td>\n",
       "    </tr>\n",
       "    <tr>\n",
       "      <th>1</th>\n",
       "      <td>2016-05-20</td>\n",
       "      <td>17491</td>\n",
       "      <td>2016</td>\n",
       "      <td>5</td>\n",
       "      <td>May</td>\n",
       "    </tr>\n",
       "    <tr>\n",
       "      <th>2</th>\n",
       "      <td>2016-05-26</td>\n",
       "      <td>18060</td>\n",
       "      <td>2016</td>\n",
       "      <td>5</td>\n",
       "      <td>May</td>\n",
       "    </tr>\n",
       "    <tr>\n",
       "      <th>3</th>\n",
       "      <td>2016-05-27</td>\n",
       "      <td>19997</td>\n",
       "      <td>2016</td>\n",
       "      <td>5</td>\n",
       "      <td>May</td>\n",
       "    </tr>\n",
       "    <tr>\n",
       "      <th>4</th>\n",
       "      <td>2016-05-28</td>\n",
       "      <td>19044</td>\n",
       "      <td>2016</td>\n",
       "      <td>5</td>\n",
       "      <td>May</td>\n",
       "    </tr>\n",
       "  </tbody>\n",
       "</table>\n",
       "</div>"
      ],
      "text/plain": [
       "        date  value  year  month month name\n",
       "0 2016-05-19  19736  2016      5        May\n",
       "1 2016-05-20  17491  2016      5        May\n",
       "2 2016-05-26  18060  2016      5        May\n",
       "3 2016-05-27  19997  2016      5        May\n",
       "4 2016-05-28  19044  2016      5        May"
      ]
     },
     "execution_count": 28,
     "metadata": {},
     "output_type": "execute_result"
    }
   ],
   "source": [
    "clean_data.head()"
   ]
  },
  {
   "cell_type": "markdown",
   "id": "53af64e9",
   "metadata": {},
   "source": [
    "## This groups the df dataframe by the year then by the months and returns the average of the values of each month sorted by the year followed by the month"
   ]
  },
  {
   "cell_type": "code",
   "execution_count": 29,
   "id": "a61cc875",
   "metadata": {},
   "outputs": [],
   "source": [
    "grouped_data = df.groupby(['year', 'month name', 'month'], as_index=False)['value'].mean().sort_values(['year','month'])"
   ]
  },
  {
   "cell_type": "markdown",
   "id": "e17de139",
   "metadata": {},
   "source": [
    "## This displays the grouped data"
   ]
  },
  {
   "cell_type": "code",
   "execution_count": 30,
   "id": "9032fb3e",
   "metadata": {},
   "outputs": [
    {
     "data": {
      "text/html": [
       "<div>\n",
       "<style scoped>\n",
       "    .dataframe tbody tr th:only-of-type {\n",
       "        vertical-align: middle;\n",
       "    }\n",
       "\n",
       "    .dataframe tbody tr th {\n",
       "        vertical-align: top;\n",
       "    }\n",
       "\n",
       "    .dataframe thead th {\n",
       "        text-align: right;\n",
       "    }\n",
       "</style>\n",
       "<table border=\"1\" class=\"dataframe\">\n",
       "  <thead>\n",
       "    <tr style=\"text-align: right;\">\n",
       "      <th></th>\n",
       "      <th>year</th>\n",
       "      <th>month name</th>\n",
       "      <th>month</th>\n",
       "      <th>value</th>\n",
       "    </tr>\n",
       "  </thead>\n",
       "  <tbody>\n",
       "    <tr>\n",
       "      <th>4</th>\n",
       "      <td>2016</td>\n",
       "      <td>January</td>\n",
       "      <td>1</td>\n",
       "      <td>0.000000</td>\n",
       "    </tr>\n",
       "    <tr>\n",
       "      <th>3</th>\n",
       "      <td>2016</td>\n",
       "      <td>February</td>\n",
       "      <td>2</td>\n",
       "      <td>0.000000</td>\n",
       "    </tr>\n",
       "    <tr>\n",
       "      <th>7</th>\n",
       "      <td>2016</td>\n",
       "      <td>March</td>\n",
       "      <td>3</td>\n",
       "      <td>0.000000</td>\n",
       "    </tr>\n",
       "    <tr>\n",
       "      <th>0</th>\n",
       "      <td>2016</td>\n",
       "      <td>April</td>\n",
       "      <td>4</td>\n",
       "      <td>0.000000</td>\n",
       "    </tr>\n",
       "    <tr>\n",
       "      <th>8</th>\n",
       "      <td>2016</td>\n",
       "      <td>May</td>\n",
       "      <td>5</td>\n",
       "      <td>11242.695652</td>\n",
       "    </tr>\n",
       "    <tr>\n",
       "      <th>6</th>\n",
       "      <td>2016</td>\n",
       "      <td>June</td>\n",
       "      <td>6</td>\n",
       "      <td>19124.366667</td>\n",
       "    </tr>\n",
       "    <tr>\n",
       "      <th>5</th>\n",
       "      <td>2016</td>\n",
       "      <td>July</td>\n",
       "      <td>7</td>\n",
       "      <td>23314.225806</td>\n",
       "    </tr>\n",
       "    <tr>\n",
       "      <th>1</th>\n",
       "      <td>2016</td>\n",
       "      <td>August</td>\n",
       "      <td>8</td>\n",
       "      <td>31049.193548</td>\n",
       "    </tr>\n",
       "    <tr>\n",
       "      <th>11</th>\n",
       "      <td>2016</td>\n",
       "      <td>September</td>\n",
       "      <td>9</td>\n",
       "      <td>41476.866667</td>\n",
       "    </tr>\n",
       "    <tr>\n",
       "      <th>10</th>\n",
       "      <td>2016</td>\n",
       "      <td>October</td>\n",
       "      <td>10</td>\n",
       "      <td>27398.322581</td>\n",
       "    </tr>\n",
       "    <tr>\n",
       "      <th>9</th>\n",
       "      <td>2016</td>\n",
       "      <td>November</td>\n",
       "      <td>11</td>\n",
       "      <td>40448.633333</td>\n",
       "    </tr>\n",
       "    <tr>\n",
       "      <th>2</th>\n",
       "      <td>2016</td>\n",
       "      <td>December</td>\n",
       "      <td>12</td>\n",
       "      <td>27832.419355</td>\n",
       "    </tr>\n",
       "    <tr>\n",
       "      <th>16</th>\n",
       "      <td>2017</td>\n",
       "      <td>January</td>\n",
       "      <td>1</td>\n",
       "      <td>32785.161290</td>\n",
       "    </tr>\n",
       "    <tr>\n",
       "      <th>15</th>\n",
       "      <td>2017</td>\n",
       "      <td>February</td>\n",
       "      <td>2</td>\n",
       "      <td>31113.071429</td>\n",
       "    </tr>\n",
       "    <tr>\n",
       "      <th>19</th>\n",
       "      <td>2017</td>\n",
       "      <td>March</td>\n",
       "      <td>3</td>\n",
       "      <td>29369.096774</td>\n",
       "    </tr>\n",
       "    <tr>\n",
       "      <th>12</th>\n",
       "      <td>2017</td>\n",
       "      <td>April</td>\n",
       "      <td>4</td>\n",
       "      <td>30878.733333</td>\n",
       "    </tr>\n",
       "    <tr>\n",
       "      <th>20</th>\n",
       "      <td>2017</td>\n",
       "      <td>May</td>\n",
       "      <td>5</td>\n",
       "      <td>34244.290323</td>\n",
       "    </tr>\n",
       "    <tr>\n",
       "      <th>18</th>\n",
       "      <td>2017</td>\n",
       "      <td>June</td>\n",
       "      <td>6</td>\n",
       "      <td>43577.500000</td>\n",
       "    </tr>\n",
       "    <tr>\n",
       "      <th>17</th>\n",
       "      <td>2017</td>\n",
       "      <td>July</td>\n",
       "      <td>7</td>\n",
       "      <td>65806.838710</td>\n",
       "    </tr>\n",
       "    <tr>\n",
       "      <th>13</th>\n",
       "      <td>2017</td>\n",
       "      <td>August</td>\n",
       "      <td>8</td>\n",
       "      <td>47712.451613</td>\n",
       "    </tr>\n",
       "    <tr>\n",
       "      <th>23</th>\n",
       "      <td>2017</td>\n",
       "      <td>September</td>\n",
       "      <td>9</td>\n",
       "      <td>47376.800000</td>\n",
       "    </tr>\n",
       "    <tr>\n",
       "      <th>22</th>\n",
       "      <td>2017</td>\n",
       "      <td>October</td>\n",
       "      <td>10</td>\n",
       "      <td>47438.709677</td>\n",
       "    </tr>\n",
       "    <tr>\n",
       "      <th>21</th>\n",
       "      <td>2017</td>\n",
       "      <td>November</td>\n",
       "      <td>11</td>\n",
       "      <td>57701.566667</td>\n",
       "    </tr>\n",
       "    <tr>\n",
       "      <th>14</th>\n",
       "      <td>2017</td>\n",
       "      <td>December</td>\n",
       "      <td>12</td>\n",
       "      <td>48420.580645</td>\n",
       "    </tr>\n",
       "    <tr>\n",
       "      <th>28</th>\n",
       "      <td>2018</td>\n",
       "      <td>January</td>\n",
       "      <td>1</td>\n",
       "      <td>58580.096774</td>\n",
       "    </tr>\n",
       "    <tr>\n",
       "      <th>27</th>\n",
       "      <td>2018</td>\n",
       "      <td>February</td>\n",
       "      <td>2</td>\n",
       "      <td>65679.000000</td>\n",
       "    </tr>\n",
       "    <tr>\n",
       "      <th>31</th>\n",
       "      <td>2018</td>\n",
       "      <td>March</td>\n",
       "      <td>3</td>\n",
       "      <td>62693.774194</td>\n",
       "    </tr>\n",
       "    <tr>\n",
       "      <th>24</th>\n",
       "      <td>2018</td>\n",
       "      <td>April</td>\n",
       "      <td>4</td>\n",
       "      <td>62350.833333</td>\n",
       "    </tr>\n",
       "    <tr>\n",
       "      <th>32</th>\n",
       "      <td>2018</td>\n",
       "      <td>May</td>\n",
       "      <td>5</td>\n",
       "      <td>56562.870968</td>\n",
       "    </tr>\n",
       "    <tr>\n",
       "      <th>30</th>\n",
       "      <td>2018</td>\n",
       "      <td>June</td>\n",
       "      <td>6</td>\n",
       "      <td>70117.000000</td>\n",
       "    </tr>\n",
       "    <tr>\n",
       "      <th>29</th>\n",
       "      <td>2018</td>\n",
       "      <td>July</td>\n",
       "      <td>7</td>\n",
       "      <td>63591.064516</td>\n",
       "    </tr>\n",
       "    <tr>\n",
       "      <th>25</th>\n",
       "      <td>2018</td>\n",
       "      <td>August</td>\n",
       "      <td>8</td>\n",
       "      <td>62831.612903</td>\n",
       "    </tr>\n",
       "    <tr>\n",
       "      <th>35</th>\n",
       "      <td>2018</td>\n",
       "      <td>September</td>\n",
       "      <td>9</td>\n",
       "      <td>65941.733333</td>\n",
       "    </tr>\n",
       "    <tr>\n",
       "      <th>34</th>\n",
       "      <td>2018</td>\n",
       "      <td>October</td>\n",
       "      <td>10</td>\n",
       "      <td>112592.000000</td>\n",
       "    </tr>\n",
       "    <tr>\n",
       "      <th>33</th>\n",
       "      <td>2018</td>\n",
       "      <td>November</td>\n",
       "      <td>11</td>\n",
       "      <td>78688.333333</td>\n",
       "    </tr>\n",
       "    <tr>\n",
       "      <th>26</th>\n",
       "      <td>2018</td>\n",
       "      <td>December</td>\n",
       "      <td>12</td>\n",
       "      <td>80047.483871</td>\n",
       "    </tr>\n",
       "    <tr>\n",
       "      <th>40</th>\n",
       "      <td>2019</td>\n",
       "      <td>January</td>\n",
       "      <td>1</td>\n",
       "      <td>102056.516129</td>\n",
       "    </tr>\n",
       "    <tr>\n",
       "      <th>39</th>\n",
       "      <td>2019</td>\n",
       "      <td>February</td>\n",
       "      <td>2</td>\n",
       "      <td>105968.357143</td>\n",
       "    </tr>\n",
       "    <tr>\n",
       "      <th>43</th>\n",
       "      <td>2019</td>\n",
       "      <td>March</td>\n",
       "      <td>3</td>\n",
       "      <td>91214.483871</td>\n",
       "    </tr>\n",
       "    <tr>\n",
       "      <th>36</th>\n",
       "      <td>2019</td>\n",
       "      <td>April</td>\n",
       "      <td>4</td>\n",
       "      <td>89368.433333</td>\n",
       "    </tr>\n",
       "    <tr>\n",
       "      <th>44</th>\n",
       "      <td>2019</td>\n",
       "      <td>May</td>\n",
       "      <td>5</td>\n",
       "      <td>91439.903226</td>\n",
       "    </tr>\n",
       "    <tr>\n",
       "      <th>42</th>\n",
       "      <td>2019</td>\n",
       "      <td>June</td>\n",
       "      <td>6</td>\n",
       "      <td>162402.600000</td>\n",
       "    </tr>\n",
       "    <tr>\n",
       "      <th>41</th>\n",
       "      <td>2019</td>\n",
       "      <td>July</td>\n",
       "      <td>7</td>\n",
       "      <td>100804.451613</td>\n",
       "    </tr>\n",
       "    <tr>\n",
       "      <th>37</th>\n",
       "      <td>2019</td>\n",
       "      <td>August</td>\n",
       "      <td>8</td>\n",
       "      <td>117991.032258</td>\n",
       "    </tr>\n",
       "    <tr>\n",
       "      <th>47</th>\n",
       "      <td>2019</td>\n",
       "      <td>September</td>\n",
       "      <td>9</td>\n",
       "      <td>97268.833333</td>\n",
       "    </tr>\n",
       "    <tr>\n",
       "      <th>46</th>\n",
       "      <td>2019</td>\n",
       "      <td>October</td>\n",
       "      <td>10</td>\n",
       "      <td>150862.709677</td>\n",
       "    </tr>\n",
       "    <tr>\n",
       "      <th>45</th>\n",
       "      <td>2019</td>\n",
       "      <td>November</td>\n",
       "      <td>11</td>\n",
       "      <td>181026.700000</td>\n",
       "    </tr>\n",
       "    <tr>\n",
       "      <th>38</th>\n",
       "      <td>2019</td>\n",
       "      <td>December</td>\n",
       "      <td>12</td>\n",
       "      <td>173870.333333</td>\n",
       "    </tr>\n",
       "  </tbody>\n",
       "</table>\n",
       "</div>"
      ],
      "text/plain": [
       "    year month name  month          value\n",
       "4   2016    January      1       0.000000\n",
       "3   2016   February      2       0.000000\n",
       "7   2016      March      3       0.000000\n",
       "0   2016      April      4       0.000000\n",
       "8   2016        May      5   11242.695652\n",
       "6   2016       June      6   19124.366667\n",
       "5   2016       July      7   23314.225806\n",
       "1   2016     August      8   31049.193548\n",
       "11  2016  September      9   41476.866667\n",
       "10  2016    October     10   27398.322581\n",
       "9   2016   November     11   40448.633333\n",
       "2   2016   December     12   27832.419355\n",
       "16  2017    January      1   32785.161290\n",
       "15  2017   February      2   31113.071429\n",
       "19  2017      March      3   29369.096774\n",
       "12  2017      April      4   30878.733333\n",
       "20  2017        May      5   34244.290323\n",
       "18  2017       June      6   43577.500000\n",
       "17  2017       July      7   65806.838710\n",
       "13  2017     August      8   47712.451613\n",
       "23  2017  September      9   47376.800000\n",
       "22  2017    October     10   47438.709677\n",
       "21  2017   November     11   57701.566667\n",
       "14  2017   December     12   48420.580645\n",
       "28  2018    January      1   58580.096774\n",
       "27  2018   February      2   65679.000000\n",
       "31  2018      March      3   62693.774194\n",
       "24  2018      April      4   62350.833333\n",
       "32  2018        May      5   56562.870968\n",
       "30  2018       June      6   70117.000000\n",
       "29  2018       July      7   63591.064516\n",
       "25  2018     August      8   62831.612903\n",
       "35  2018  September      9   65941.733333\n",
       "34  2018    October     10  112592.000000\n",
       "33  2018   November     11   78688.333333\n",
       "26  2018   December     12   80047.483871\n",
       "40  2019    January      1  102056.516129\n",
       "39  2019   February      2  105968.357143\n",
       "43  2019      March      3   91214.483871\n",
       "36  2019      April      4   89368.433333\n",
       "44  2019        May      5   91439.903226\n",
       "42  2019       June      6  162402.600000\n",
       "41  2019       July      7  100804.451613\n",
       "37  2019     August      8  117991.032258\n",
       "47  2019  September      9   97268.833333\n",
       "46  2019    October     10  150862.709677\n",
       "45  2019   November     11  181026.700000\n",
       "38  2019   December     12  173870.333333"
      ]
     },
     "execution_count": 30,
     "metadata": {},
     "output_type": "execute_result"
    }
   ],
   "source": [
    "grouped_data"
   ]
  },
  {
   "cell_type": "markdown",
   "id": "866c6671",
   "metadata": {},
   "source": [
    "## This visualizes that grouped data using seaborns barplot with the hue being the month name column"
   ]
  },
  {
   "cell_type": "code",
   "execution_count": 31,
   "id": "a4d52a03",
   "metadata": {},
   "outputs": [
    {
     "data": {
      "text/plain": [
       "Text(0.5, 0, 'Years')"
      ]
     },
     "execution_count": 31,
     "metadata": {},
     "output_type": "execute_result"
    },
    {
     "data": {
      "image/png": "[encoded data removed]",
      "text/plain": [
       "<Figure size 640x480 with 1 Axes>"
      ]
     },
     "metadata": {},
     "output_type": "display_data"
    }
   ],
   "source": [
    "sns.barplot(data=grouped_data, x='year', y='value', hue='month name', palette='Set1')\n",
    "plt.ylabel('Average Page Views')\n",
    "plt.xlabel('Years')"
   ]
  },
  {
   "cell_type": "markdown",
   "id": "41ef7493",
   "metadata": {},
   "source": [
    "## This creates a boxplot for the year column and the month column stacked side by side"
   ]
  },
  {
   "cell_type": "code",
   "execution_count": 32,
   "id": "af306519",
   "metadata": {},
   "outputs": [
    {
     "data": {
      "image/png": "[encoded data removed]",
      "text/plain": [
       "<Figure size 1200x600 with 2 Axes>"
      ]
     },
     "metadata": {},
     "output_type": "display_data"
    }
   ],
   "source": [
    "plt.figure(figsize=(12,6))\n",
    "ax1 = plt.subplot(1, 2, 1)\n",
    "sns.boxplot(data=clean_data, x='year', y='value', ax=ax1)\n",
    "ax1.set_title('Year-wise Box Plot (Trend)')\n",
    "ax1.set_ylabel('Page Views')\n",
    "ax1.set_xlabel('Year')\n",
    "ax2 = plt.subplot(1, 2, 2)\n",
    "sns.boxplot(data=clean_data, x='month name', y='value', ax=ax2)\n",
    "ax2.set_title('Month-wise Box Plot (Seasonality)')\n",
    "ax2.set_ylabel('Page Views')\n",
    "ax2.set_xlabel('Months')\n",
    "ax2.set_xticklabels(labels = df['month name'].unique(), rotation='vertical')\n",
    "plt.show()"
   ]
  }
 ],
 "metadata": {
  "kernelspec": {
   "display_name": "Python 3 (ipykernel)",
   "language": "python",
   "name": "python3"
  },
  "language_info": {
   "codemirror_mode": {
    "name": "ipython",
    "version": 3
   },
   "file_extension": ".py",
   "mimetype": "text/x-python",
   "name": "python",
   "nbconvert_exporter": "python",
   "pygments_lexer": "ipython3",
   "version": "3.10.7"
  }
 },
 "nbformat": 4,
 "nbformat_minor": 5
}
